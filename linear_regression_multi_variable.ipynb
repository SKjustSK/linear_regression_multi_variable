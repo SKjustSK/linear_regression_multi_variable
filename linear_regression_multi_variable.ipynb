{
 "cells": [
  {
   "cell_type": "markdown",
   "id": "7b83fe22-7d48-4a04-b06b-076ccb4235ea",
   "metadata": {},
   "source": [
    "# Linear regression with multi variables\n"
   ]
  },
  {
   "cell_type": "code",
   "execution_count": 10,
   "id": "cbd7893b-ad85-4373-8199-020a5793a06e",
   "metadata": {},
   "outputs": [
    {
     "name": "stdout",
     "output_type": "stream",
     "text": [
      "[14 32 50]\n",
      "(3,)\n",
      "(3,)\n"
     ]
    }
   ],
   "source": [
    "import numpy as np\n",
    "\n",
    "a = np.array([[1,2,3],[4,5,6],[7,8,9]])\n",
    "b = np.array([1,2,3])\n",
    "\n",
    "c = np.dot(a,b)\n",
    "print(c)\n",
    "print(c.shape)\n",
    "print(b.shape)"
   ]
  }
 ],
 "metadata": {
  "kernelspec": {
   "display_name": "Python 3 (ipykernel)",
   "language": "python",
   "name": "python3"
  },
  "language_info": {
   "codemirror_mode": {
    "name": "ipython",
    "version": 3
   },
   "file_extension": ".py",
   "mimetype": "text/x-python",
   "name": "python",
   "nbconvert_exporter": "python",
   "pygments_lexer": "ipython3",
   "version": "3.11.7"
  }
 },
 "nbformat": 4,
 "nbformat_minor": 5
}
